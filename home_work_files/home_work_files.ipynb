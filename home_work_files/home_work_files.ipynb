{
 "cells": [
  {
   "cell_type": "markdown",
   "metadata": {},
   "source": [
    "## Задача №1\n",
    "### Должен получится следующий словарь\n",
    "\n",
    "cook_book = {\n",
    "  'Омлет': [\n",
    "    {'ingredient_name': 'Яйцо', 'quantity': 2, 'measure': 'шт.'},\n",
    "    {'ingredient_name': 'Молоко', 'quantity': 100, 'measure': 'мл'},\n",
    "    {'ingredient_name': 'Помидор', 'quantity': 2, 'measure': 'шт'}\n",
    "    ],\n",
    "  'Утка по-пекински': [\n",
    "    {'ingredient_name': 'Утка', 'quantity': 1, 'measure': 'шт'},\n",
    "    {'ingredient_name': 'Вода', 'quantity': 2, 'measure': 'л'},\n",
    "    {'ingredient_name': 'Мед', 'quantity': 3, 'measure': 'ст.л'},\n",
    "    {'ingredient_name': 'Соевый соус', 'quantity': 60, 'measure': 'мл'}\n",
    "    ],\n",
    "  'Запеченный картофель': [\n",
    "    {'ingredient_name': 'Картофель', 'quantity': 1, 'measure': 'кг'},\n",
    "    {'ingredient_name': 'Чеснок', 'quantity': 3, 'measure': 'зубч'},\n",
    "    {'ingredient_name': 'Сыр гауда', 'quantity': 100, 'measure': 'г'},\n",
    "    ]\n",
    "  }"
   ]
  },
  {
   "cell_type": "markdown",
   "metadata": {},
   "source": [
    "## Задача №2\n",
    "### Нужно написать функцию, которая на вход принимает список блюд из cook_book и количество персон для кого мы будем готовить\n",
    "\n",
    "get_shop_list_by_dishes(dishes, person_count)\n",
    "На выходе мы должны получить словарь с названием ингредиентов и его количества для блюда. Например, для такого вызова\n",
    "\n",
    "get_shop_list_by_dishes(['Запеченный картофель', 'Омлет'], 2)\n",
    "### Должен быть следующий результат:\n",
    "\n",
    "{\n",
    "  'Картофель': {'measure': 'кг', 'quantity': 2},\n",
    "  'Молоко': {'measure': 'мл', 'quantity': 200},\n",
    "  'Помидор': {'measure': 'шт', 'quantity': 4},\n",
    "  'Сыр гауда': {'measure': 'г', 'quantity': 200},\n",
    "  'Яйцо': {'measure': 'шт', 'quantity': 4},\n",
    "  'Чеснок': {'measure': 'зубч', 'quantity': 6}\n",
    "}\n",
    "### Обратите внимание, что ингредиенты могут повторяться"
   ]
  },
  {
   "cell_type": "code",
   "execution_count": 87,
   "metadata": {},
   "outputs": [
    {
     "name": "stdout",
     "output_type": "stream",
     "text": [
      "{'Омлет': [{'ingredient_name': 'Яйцо', 'quantity': '2', 'measure': 'шт'}, {'ingredient_name': 'Молоко', 'quantity': '100', 'measure': 'мл'}, {'ingredient_name': 'Помидор', 'quantity': '2', 'measure': 'шт'}], 'Утка по-пекински': [{'ingredient_name': 'Утка', 'quantity': '1', 'measure': 'шт'}, {'ingredient_name': 'Вода', 'quantity': '2', 'measure': 'л'}, {'ingredient_name': 'Мед', 'quantity': '3', 'measure': 'ст.л'}, {'ingredient_name': 'Соевый соус', 'quantity': '60', 'measure': 'мл'}], 'Запеченный картофель': [{'ingredient_name': 'Картофель', 'quantity': '1', 'measure': 'кг'}, {'ingredient_name': 'Чеснок', 'quantity': '3', 'measure': 'зубч'}, {'ingredient_name': 'Сыр гауда', 'quantity': '100', 'measure': 'г'}], 'Фахитос': [{'ingredient_name': 'Говядина', 'quantity': '500', 'measure': 'г'}, {'ingredient_name': 'Перец сладкий', 'quantity': '1', 'measure': 'шт'}, {'ingredient_name': 'Лаваш', 'quantity': '2', 'measure': 'шт'}, {'ingredient_name': 'Винный уксус', 'quantity': '1', 'measure': 'ст.л'}, {'ingredient_name': 'Помидор', 'quantity': '2', 'measure': 'шт'}]}\n",
      "--------------------------------------------------------------------------------------------------------------------------------------------------------------------------\n"
     ]
    },
    {
     "data": {
      "text/plain": [
       "{'Яйцо': {'measure': 'шт', 'quantity': 8},\n",
       " 'Молоко': {'measure': 'мл', 'quantity': 400},\n",
       " 'Помидор': {'measure': 'шт', 'quantity': 16},\n",
       " 'Говядина': {'measure': 'г', 'quantity': 2000},\n",
       " 'Перец сладкий': {'measure': 'шт', 'quantity': 4},\n",
       " 'Лаваш': {'measure': 'шт', 'quantity': 8},\n",
       " 'Винный уксус': {'measure': 'ст.л', 'quantity': 4},\n",
       " 'Картофель': {'measure': 'кг', 'quantity': 4},\n",
       " 'Чеснок': {'measure': 'зубч', 'quantity': 12},\n",
       " 'Сыр гауда': {'measure': 'г', 'quantity': 400}}"
      ]
     },
     "execution_count": 87,
     "metadata": {},
     "output_type": "execute_result"
    }
   ],
   "source": [
    "def cook_book_coll (file_patch):\n",
    "    cook_book = {}\n",
    "    with open(file_patch, encoding='utf-8') as file:\n",
    "        for name_dish in file:                    \n",
    "            dish = name_dish.strip()\n",
    "            cook_books = {dish : []}\n",
    "            num_ingred = file.readline()\n",
    "            for x in range(int(num_ingred)):\n",
    "                ing = file.readline()\n",
    "                ing_name, quan, meas = ing.strip().split(' | ')            \n",
    "                cook_books[dish].append({'ingredient_name': ing_name,'quantity': quan, 'measure': meas})\n",
    "                cook_book.update(cook_books)\n",
    "            blank_str = file.readline()\n",
    "              \n",
    "    return(cook_book)\n",
    "print(cook_book_coll ('recipes.txt'))\n",
    "print('-'*170)\n",
    "def get_shop_list_by_dishes(dishes, person_count):\n",
    "    cook_book = cook_book_coll ('recipes.txt')\n",
    "    shop_list = {}   \n",
    "    \n",
    "    \n",
    "    for dish in dishes:\n",
    "        for  components in cook_book[dish]:\n",
    "            menu_list = {components['ingredient_name']: {'measure': components['measure'], 'quantity': int(components['quantity']) * person_count}}\n",
    "                    \n",
    "            if components['ingredient_name'] not in shop_list:              \n",
    "                shop_list.update(menu_list)                               \n",
    "                        \n",
    "                    \n",
    "            else:\n",
    "                double_components = int(shop_list[components['ingredient_name']]['quantity']) + int(menu_list[components['ingredient_name']]['quantity'])\n",
    "                shop_list[components['ingredient_name']]['quantity'] = double_components\n",
    "               \n",
    " \n",
    "    return(shop_list)\n",
    "        \n",
    "        \n",
    "get_shop_list_by_dishes(['Омлет', 'Фахитос', 'Запеченный картофель'], 4)\n",
    "    \n",
    "     \n",
    "        \n",
    "       \n",
    "\n",
    "        \n",
    "\n",
    "\n",
    "        \n",
    "    \n",
    "        \n",
    "       \n",
    "\n",
    "\n",
    "\n",
    "            \n",
    "\n"
   ]
  }
 ],
 "metadata": {
  "kernelspec": {
   "display_name": "Python 3.10.5 64-bit",
   "language": "python",
   "name": "python3"
  },
  "language_info": {
   "codemirror_mode": {
    "name": "ipython",
    "version": 3
   },
   "file_extension": ".py",
   "mimetype": "text/x-python",
   "name": "python",
   "nbconvert_exporter": "python",
   "pygments_lexer": "ipython3",
   "version": "3.10.5"
  },
  "orig_nbformat": 4,
  "vscode": {
   "interpreter": {
    "hash": "a42ccb73e7d9bfdf27e036f1d2b8b681e55fc0743cc5586bc2474d4a60f4b886"
   }
  }
 },
 "nbformat": 4,
 "nbformat_minor": 2
}
