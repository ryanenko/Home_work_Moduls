{
 "cells": [
  {
   "cell_type": "code",
   "execution_count": 54,
   "metadata": {},
   "outputs": [
    {
     "name": "stdout",
     "output_type": "stream",
     "text": [
      "{'Запеченный картофель': [{'ingredient_name': 'Картофель',\n",
      "                           'measure': 'кг',\n",
      "                           'quantity': '1'},\n",
      "                          {'ingredient_name': 'Чеснок',\n",
      "                           'measure': 'зубч',\n",
      "                           'quantity': '3'},\n",
      "                          {'ingredient_name': 'Сыр гауда',\n",
      "                           'measure': 'г',\n",
      "                           'quantity': '100'}],\n",
      " 'Омлет': [{'ingredient_name': 'Яйцо', 'measure': 'шт', 'quantity': '2'},\n",
      "           {'ingredient_name': 'Молоко', 'measure': 'мл', 'quantity': '100'},\n",
      "           {'ingredient_name': 'Помидор', 'measure': 'шт', 'quantity': '2'}],\n",
      " 'Утка по-пекински': [{'ingredient_name': 'Утка',\n",
      "                       'measure': 'шт',\n",
      "                       'quantity': '1'},\n",
      "                      {'ingredient_name': 'Вода',\n",
      "                       'measure': 'л',\n",
      "                       'quantity': '2'},\n",
      "                      {'ingredient_name': 'Мед',\n",
      "                       'measure': 'ст.л',\n",
      "                       'quantity': '3'},\n",
      "                      {'ingredient_name': 'Соевый соус',\n",
      "                       'measure': 'мл',\n",
      "                       'quantity': '60'}],\n",
      " 'Фахитос': [{'ingredient_name': 'Говядина', 'measure': 'г', 'quantity': '500'},\n",
      "             {'ingredient_name': 'Перец сладкий',\n",
      "              'measure': 'шт',\n",
      "              'quantity': '1'},\n",
      "             {'ingredient_name': 'Лаваш', 'measure': 'шт', 'quantity': '2'},\n",
      "             {'ingredient_name': 'Винный уксус',\n",
      "              'measure': 'ст.л',\n",
      "              'quantity': '1'},\n",
      "             {'ingredient_name': 'Помидор', 'measure': 'шт', 'quantity': '2'}]}\n"
     ]
    }
   ],
   "source": [
    "\n",
    "cook_book = {}\n",
    "with open('recipes.txt', encoding='utf-8') as file:\n",
    "    # read_ = file.read()\n",
    "    # print(read_)\n",
    "    for name_dish in file:\n",
    "            \n",
    "        dish = name_dish.strip()\n",
    "        cook_books = {dish : []}\n",
    "        num_ingred = file.readline()\n",
    "        for x in range(int(num_ingred)):\n",
    "            ing = file.readline()\n",
    "            ing_name, quan, meas = ing.strip().split(' | ')            \n",
    "            cook_books[dish].append({'ingredient_name': ing_name,'quantity': quan, 'measure': meas})\n",
    "            cook_book.update(cook_books)\n",
    "        blank_str = file.readline()\n",
    "print(cook_book)            \n",
    "\n",
    "\n",
    "\n",
    "\n",
    "\n",
    "\n",
    "            \n",
    "\n"
   ]
  }
 ],
 "metadata": {
  "kernelspec": {
   "display_name": "Python 3.10.5 64-bit",
   "language": "python",
   "name": "python3"
  },
  "language_info": {
   "codemirror_mode": {
    "name": "ipython",
    "version": 3
   },
   "file_extension": ".py",
   "mimetype": "text/x-python",
   "name": "python",
   "nbconvert_exporter": "python",
   "pygments_lexer": "ipython3",
   "version": "3.10.5"
  },
  "orig_nbformat": 4,
  "vscode": {
   "interpreter": {
    "hash": "a42ccb73e7d9bfdf27e036f1d2b8b681e55fc0743cc5586bc2474d4a60f4b886"
   }
  }
 },
 "nbformat": 4,
 "nbformat_minor": 2
}
